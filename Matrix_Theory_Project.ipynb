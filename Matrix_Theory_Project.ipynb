{
  "nbformat": 4,
  "nbformat_minor": 0,
  "metadata": {
    "colab": {
      "provenance": []
    },
    "kernelspec": {
      "name": "python3",
      "display_name": "Python 3"
    },
    "language_info": {
      "name": "python"
    },
    "accelerator": "GPU",
    "gpuClass": "standard"
  },
  "cells": [
    {
      "cell_type": "markdown",
      "source": [
        "Uploaded the Zip file of the harvard.mat & IndianTourism.mat files and Uploaded them in drive. Downloading that zip file using **gdown**"
      ],
      "metadata": {
        "id": "vT4dOGYcv3Ca"
      }
    },
    {
      "cell_type": "code",
      "source": [
        "!gdown \"1kle0xNhT2T28wS6X9ne_qGo92PTKBxkF\""
      ],
      "metadata": {
        "colab": {
          "base_uri": "https://localhost:8080/"
        },
        "id": "dvHg3dQhsCpn",
        "outputId": "b3e2e834-56c1-458d-ebed-7b38607cd30f"
      },
      "execution_count": null,
      "outputs": [
        {
          "output_type": "stream",
          "name": "stdout",
          "text": [
            "Downloading...\n",
            "From: https://drive.google.com/uc?id=1kle0xNhT2T28wS6X9ne_qGo92PTKBxkF\n",
            "To: /content/Matrix_Theory.zip\n",
            "\r  0% 0.00/28.9k [00:00<?, ?B/s]\r100% 28.9k/28.9k [00:00<00:00, 46.0MB/s]\n"
          ]
        }
      ]
    },
    {
      "cell_type": "markdown",
      "source": [
        "Unzipping the zip file using **unzip**"
      ],
      "metadata": {
        "id": "Vhp3SkywwVxV"
      }
    },
    {
      "cell_type": "code",
      "source": [
        "#If run twice, Please respond to overwrite All\n",
        "!unzip \"/content/Matrix_Theory.zip\""
      ],
      "metadata": {
        "colab": {
          "base_uri": "https://localhost:8080/"
        },
        "id": "R0jwYI6cvRv-",
        "outputId": "1c923af4-1f28-4979-9d95-3a36be7f7413"
      },
      "execution_count": null,
      "outputs": [
        {
          "output_type": "stream",
          "name": "stdout",
          "text": [
            "Archive:  /content/Matrix_Theory.zip\n",
            "  inflating: IndianTourism.mat       \n",
            "  inflating: __MACOSX/._IndianTourism.mat  \n",
            "  inflating: harvard.mat             \n",
            "  inflating: __MACOSX/._harvard.mat  \n"
          ]
        }
      ]
    },
    {
      "cell_type": "markdown",
      "source": [
        "Importing required packages"
      ],
      "metadata": {
        "id": "14OyG2gxwqw4"
      }
    },
    {
      "cell_type": "code",
      "source": [
        "import numpy as np\n",
        "from numpy import linalg as LA\n",
        "import matplotlib.pyplot as plt\n",
        "from scipy.io import loadmat\n",
        "import pandas as pd"
      ],
      "metadata": {
        "id": "e6pCwMiJwt8g"
      },
      "execution_count": null,
      "outputs": []
    },
    {
      "cell_type": "markdown",
      "source": [
        "Retrieving list of URLs and their corresponding Connectivity Matrices from Hardvard.mat and IndianTourism.mat"
      ],
      "metadata": {
        "id": "AV2DY_o6yEzH"
      }
    },
    {
      "cell_type": "code",
      "source": [
        "Ind_tour = loadmat('/content/IndianTourism.mat')\n",
        "G_Ind_tour = Ind_tour[\"G\"]\n",
        "U_Ind_tour = Ind_tour[\"U\"]\n",
        "Harvard = loadmat(\"/content/harvard.mat\")\n",
        "G_Harvard = Harvard[\"G\"]\n",
        "U_Harvard = Harvard[\"U\"]"
      ],
      "metadata": {
        "id": "RlhPoS_UyEZC"
      },
      "execution_count": null,
      "outputs": []
    },
    {
      "cell_type": "markdown",
      "source": [
        "Producing the Spy plot of Sparse Connectivity Matrices of Harvard University and IndianTourism websites"
      ],
      "metadata": {
        "id": "miGVAn9Y0PKD"
      }
    },
    {
      "cell_type": "code",
      "source": [
        "plt.spy(G_Harvard)\n",
        "plt.title(\"Harvard Connectivity Matrix\")\n",
        "plt.show()\n",
        "plt.spy(G_Ind_tour)\n",
        "plt.title(\"IndianTourism Matrix\")\n",
        "plt.show()"
      ],
      "metadata": {
        "colab": {
          "base_uri": "https://localhost:8080/",
          "height": 541
        },
        "id": "X3NVcYcQ0OGp",
        "outputId": "df8d55f9-49f1-4493-da0c-c8b27c3265f6"
      },
      "execution_count": null,
      "outputs": [
        {
          "output_type": "display_data",
          "data": {
            "text/plain": [
              "<Figure size 432x288 with 1 Axes>"
            ],
            "image/png": "[encoded data removed]"
          },
          "metadata": {
            "needs_background": "light"
          }
        },
        {
          "output_type": "display_data",
          "data": {
            "text/plain": [
              "<Figure size 432x288 with 1 Axes>"
            ],
            "image/png": "[encoded data removed]"
          },
          "metadata": {
            "needs_background": "light"
          }
        }
      ]
    },
    {
      "cell_type": "markdown",
      "source": [
        "Function based on the power method to compute Google’s PageRank vector  **x = PageRank(U,G,p)**"
      ],
      "metadata": {
        "id": "O92GUBWg0yYy"
      }
    },
    {
      "cell_type": "code",
      "source": [
        "def PageRank(U,G,p,title):\n",
        "\n",
        "  m,n = np.shape(G)\n",
        "  # computing outdegree\n",
        "  c = G.sum(axis=0)\n",
        "  c = np.asarray(c).reshape(-1)\n",
        "  # computing indegree\n",
        "  b = G.sum(axis=1)\n",
        "  b = np.asarray(b).reshape(-1)\n",
        "  #Converting CSC matrix to numpy matrix\n",
        "  G = G.toarray()\n",
        "  # Calculating transition probability matrix of  the  Markov  chain\n",
        "  A = np.zeros((m,n))\n",
        "  # A=np.array([(p * G[i][j] / c[j] + (1-p)/n if c[j]!=0 else 1/n for i in range(m))for j in range(n)])\n",
        "  for i in range(m):\n",
        "    for j in range(n):\n",
        "      if c[j] != 0:\n",
        "        A[i][j] = p * G[i][j] / c[j] + (1-p)/n\n",
        "      else:\n",
        "        A[i][j] = 1/n\n",
        "  # Initializing x - Perron / Eigen Vector associated with leading eigen value of A\n",
        "  x= np.ones((n,1))\n",
        "  for l in range(1000):\n",
        "    x_n = np.linalg.norm(x,ord=1)\n",
        "    a   = A.dot(x)\n",
        "    x   = a /x_n\n",
        "    ratio = np.linalg.norm(a,ord=1)/x_n\n",
        "    if (ratio ==1):\n",
        "      print(\"Converges to 1 after \",l,\" iterations\")\n",
        "      break\n",
        "  y = np.array([i[0] for i in x])\n",
        "  y = np.insert(y,0,0,axis=0)\n",
        "  plt.bar(np.arange(0,501),y)\n",
        "  plt.title(\"Page Rank\")\n",
        "  plt.show()\n",
        "  indices = np.argsort(x,axis=0) # ascending order\n",
        "  indices = indices[::-1]        # Flipping array\n",
        "  U=U[indices[0:6]].reshape(6,1)\n",
        "  x=x[indices[0:6]].reshape(6,1)\n",
        "  #Showing In degree,out degree,Page rank of top 6 websites\n",
        "  my_array = np.array([indices[0:6]+np.ones((6,1),dtype=int),x,b[indices[0:6]],c[indices[0:6]],U])\n",
        "  df = pd.DataFrame(my_array.T.reshape(6,-1), columns = [\" \",\"Page-Rank\",\"In\",\"Out\",\"URL\"])\n",
        "  print(df.set_index(\" \"))"
      ],
      "metadata": {
        "id": "YvBjyAB9_c-Z"
      },
      "execution_count": null,
      "outputs": []
    },
    {
      "cell_type": "markdown",
      "source": [
        "Calculating PageRank of Hardvard University Website with p = 0.85"
      ],
      "metadata": {
        "id": "jIdrh6j2y97V"
      }
    },
    {
      "cell_type": "code",
      "source": [
        "PageRank(U_Harvard,G_Harvard,.85,\"Harvard University Graph\")"
      ],
      "metadata": {
        "id": "IQ0uSF4Jfyl1",
        "colab": {
          "base_uri": "https://localhost:8080/",
          "height": 442
        },
        "outputId": "eda8b7f7-a172-4e80-a13b-65bb9d39cb7a"
      },
      "execution_count": null,
      "outputs": [
        {
          "output_type": "stream",
          "name": "stdout",
          "text": [
            "Converges to 1 after  3  iterations\n"
          ]
        },
        {
          "output_type": "display_data",
          "data": {
            "text/plain": [
              "<Figure size 432x288 with 1 Axes>"
            ],
            "image/png": "[encoded data removed]"
          },
          "metadata": {
            "needs_background": "light"
          }
        },
        {
          "output_type": "stream",
          "name": "stdout",
          "text": [
            "    Page-Rank   In Out                                                URL\n",
            "                                                                         \n",
            "1     0.08564  195  26                           [http://www.harvard.edu]\n",
            "42   0.016699   42   0  [http://search.harvard.edu:8765/custom/query.h...\n",
            "10    0.01568   21  18                               [http://www.hbs.edu]\n",
            "130  0.014853   24  12                       [http://www.med.harvard.edu]\n",
            "18   0.014367   45  46                       [http://www.gse.harvard.edu]\n",
            "15   0.012947   16  49                       [http://www.hms.harvard.edu]\n"
          ]
        }
      ]
    },
    {
      "cell_type": "markdown",
      "source": [
        "Calculating PageRank of Indian Tourism University Website with p = 0.75"
      ],
      "metadata": {
        "id": "8zgxBX_1zw8c"
      }
    },
    {
      "cell_type": "code",
      "source": [
        "PageRank(U_Harvard,G_Harvard,.75,\"Harvard University Graph\")"
      ],
      "metadata": {
        "colab": {
          "base_uri": "https://localhost:8080/",
          "height": 442
        },
        "id": "Vz5KHOUj8m-L",
        "outputId": "063b0e41-e2cf-4c96-d2b3-d4fcc57c40f4"
      },
      "execution_count": null,
      "outputs": [
        {
          "output_type": "stream",
          "name": "stdout",
          "text": [
            "Converges to 1 after  0  iterations\n"
          ]
        },
        {
          "output_type": "display_data",
          "data": {
            "text/plain": [
              "<Figure size 432x288 with 1 Axes>"
            ],
            "image/png": "[encoded data removed]"
          },
          "metadata": {
            "needs_background": "light"
          }
        },
        {
          "output_type": "stream",
          "name": "stdout",
          "text": [
            "    Page-Rank   In Out                                                URL\n",
            "                                                                         \n",
            "1     0.11569  195  26                           [http://www.harvard.edu]\n",
            "42   0.021873   42   0  [http://search.harvard.edu:8765/custom/query.h...\n",
            "130  0.015676   24  12                       [http://www.med.harvard.edu]\n",
            "17   0.014265   13   6                      [http://www.hsph.harvard.edu]\n",
            "18   0.014237   45  46                       [http://www.gse.harvard.edu]\n",
            "9    0.014049   21  27                       [http://www.ksg.harvard.edu]\n"
          ]
        }
      ]
    },
    {
      "cell_type": "markdown",
      "source": [
        "Conclusion for Harvard Website:\n",
        "\n",
        "When the p value is changing the page rank values is changing slightly. So, the top ranked pages (1,2) are not getting effected."
      ],
      "metadata": {
        "id": "C4ChmkNrYXNk"
      }
    },
    {
      "cell_type": "code",
      "source": [
        "PageRank(U_Ind_tour,G_Ind_tour,.85,\"IndianTourism\")"
      ],
      "metadata": {
        "colab": {
          "base_uri": "https://localhost:8080/",
          "height": 442
        },
        "id": "4g5NsjXAu_UJ",
        "outputId": "645dd346-5df3-4025-a0a4-7d3e28d0d973"
      },
      "execution_count": null,
      "outputs": [
        {
          "output_type": "stream",
          "name": "stdout",
          "text": [
            "Converges to 1 after  1  iterations\n"
          ]
        },
        {
          "output_type": "display_data",
          "data": {
            "text/plain": [
              "<Figure size 432x288 with 1 Axes>"
            ],
            "image/png": "[encoded data removed]"
          },
          "metadata": {
            "needs_background": "light"
          }
        },
        {
          "output_type": "stream",
          "name": "stdout",
          "text": [
            "    Page-Rank  In Out                           URL\n",
            "                                                   \n",
            "10   0.019776  69   2           [http://www.nic.in]\n",
            "432  0.018096   7   1  [http://www.makeinindia.com]\n",
            "32   0.014549  36   0         [http://india.gov.in]\n",
            "11   0.010146  59  61           [http://cmf.gov.in]\n",
            "16   0.009635  40   0          [http://drupal.org)]\n",
            "27   0.009191   3   9        [http://nkn.gov.in/en]\n"
          ]
        }
      ]
    },
    {
      "cell_type": "markdown",
      "source": [
        "Calculating PageRank of Indian Tourism University Website with"
      ],
      "metadata": {
        "id": "gfIPRhm8z78p"
      }
    },
    {
      "cell_type": "code",
      "source": [
        "PageRank(U_Ind_tour,G_Ind_tour,.75,\"IndianTourism\")"
      ],
      "metadata": {
        "colab": {
          "base_uri": "https://localhost:8080/",
          "height": 442
        },
        "id": "lOjxq23HGGxl",
        "outputId": "c4ed8877-792c-431a-8b94-678f7d0cc348"
      },
      "execution_count": null,
      "outputs": [
        {
          "output_type": "stream",
          "name": "stdout",
          "text": [
            "Converges to 1 after  1  iterations\n"
          ]
        },
        {
          "output_type": "display_data",
          "data": {
            "text/plain": [
              "<Figure size 432x288 with 1 Axes>"
            ],
            "image/png": "[encoded data removed]"
          },
          "metadata": {
            "needs_background": "light"
          }
        },
        {
          "output_type": "stream",
          "name": "stdout",
          "text": [
            "    Page-Rank  In Out                                  URL\n",
            "                                                          \n",
            "10   0.017508  69   2                  [http://www.nic.in]\n",
            "432  0.014968   7   1         [http://www.makeinindia.com]\n",
            "32   0.013136  36   0                [http://india.gov.in]\n",
            "11   0.009518  59  61                  [http://cmf.gov.in]\n",
            "16   0.008718  40   0                 [http://drupal.org)]\n",
            "162  0.007964  25   1  [http://subscribe.businessworld.in]\n"
          ]
        }
      ]
    },
    {
      "cell_type": "markdown",
      "source": [
        "Conclusion for IndianTourism Website:\n",
        "\n",
        "When the p value is changing the page rank values is changing slightly. So, the top ranked pages (1,2) are not getting effected.\n",
        "\n",
        "From above observations ,we can infer that by varying p value, pageranks are\n",
        "varied, obviously graph is varied with p because we are plotting pageranks vs\n",
        "index of websites in U and there is no guarantee that same websites will stay\n",
        "in top positions if p is varied."
      ],
      "metadata": {
        "id": "QRPArGH7ZbuO"
      }
    }
  ]
}